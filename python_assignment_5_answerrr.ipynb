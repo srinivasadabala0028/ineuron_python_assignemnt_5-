{
 "cells": [
  {
   "cell_type": "code",
   "execution_count": 1,
   "id": "603b0806",
   "metadata": {},
   "outputs": [
    {
     "name": "stdout",
     "output_type": "stream",
     "text": [
      "34\n",
      "56\n",
      "The L.C.M. is 952\n"
     ]
    }
   ],
   "source": [
    "# Q1 :  Write a Python Program to Find LCM?\n",
    "\n",
    "\n",
    "def cal_lcm(x, y):\n",
    "\n",
    "   # choose the greater number\n",
    "   if x > y:\n",
    "       great = x\n",
    "   else:\n",
    "       great = y\n",
    "\n",
    "   while(True):\n",
    "       if((great % x == 0) and (great % y == 0)):\n",
    "           lcm = great\n",
    "        \n",
    "           break\n",
    "       great += 1\n",
    "\n",
    "   return lcm\n",
    "\n",
    "num1 = int(input())\n",
    "num2 = int(input())\n",
    "\n",
    "print(\"The L.C.M. is\", cal_lcm(num1, num2))"
   ]
  },
  {
   "cell_type": "code",
   "execution_count": 2,
   "id": "257a2687",
   "metadata": {},
   "outputs": [
    {
     "name": "stdout",
     "output_type": "stream",
     "text": [
      "34\n",
      "56\n",
      "The H.C.F. is 2\n"
     ]
    }
   ],
   "source": [
    "# Q2 Write a Python Program to Find HCF?\n",
    "\n",
    "\n",
    "def cal_hcf(x, y):\n",
    "\n",
    "\n",
    "    if x > y:\n",
    "        small = y\n",
    "    else:\n",
    "        small = x\n",
    "    for i in range(1, small+1):\n",
    "        if((x % i == 0) and (y % i == 0)):\n",
    "            hcf = i \n",
    "    return hcf\n",
    "\n",
    "s = int(input())\n",
    "d = int(input())\n",
    "\n",
    "print(\"The H.C.F. is\", cal_hcf(s, d))"
   ]
  },
  {
   "cell_type": "code",
   "execution_count": 3,
   "id": "6ca480fb",
   "metadata": {},
   "outputs": [
    {
     "name": "stdout",
     "output_type": "stream",
     "text": [
      "enter the decimal number4567\n",
      "the value in binary is  0b1000111010111\n",
      "the value in binary is  0o10727\n",
      "the value in binary is  0x11d7\n"
     ]
    }
   ],
   "source": [
    "#  Q3 : Write a Python Program to Convert Decimal to Binary, Octal and Hexadecimal? \n",
    "q = int(input(\"enter the decimal number\"))\n",
    "print(\"the value in binary is \", bin(q))\n",
    "print(\"the value in binary is \", oct(q))\n",
    "print(\"the value in binary is \", hex(q))"
   ]
  },
  {
   "cell_type": "code",
   "execution_count": 4,
   "id": "c2df7f2c",
   "metadata": {},
   "outputs": [
    {
     "name": "stdout",
     "output_type": "stream",
     "text": [
      "enter the characeter : y\n",
      "the ascii value for the given character is  121\n"
     ]
    }
   ],
   "source": [
    "# Q4 : Write a Python Program To Find ASCII value of a character?\n",
    "\n",
    "t= str(input(\"enter the characeter : \"))\n",
    "print(\"the ascii value for the given character is \", ord(t))"
   ]
  },
  {
   "cell_type": "code",
   "execution_count": 5,
   "id": "0c11d83a",
   "metadata": {},
   "outputs": [
    {
     "name": "stdout",
     "output_type": "stream",
     "text": [
      "34\n",
      "56\n",
      "the operations that are available in the calculator  are  : additon ,subtraction,multiplication ,divide \n",
      " press 1 for additon \n",
      " press 2 for subtraction \n",
      " press 3 for multiplication \n",
      " press 4 for division \n",
      "enter the choice : 4\n",
      "the division is  0.6071428571428571\n",
      "do u wanna do  the another claculator \n",
      " choose yes or no no\n"
     ]
    }
   ],
   "source": [
    "# Q5:  Write a Python Program to Make a Simple Calculator with 4 basic mathematical operations?\n",
    "g= float(input())\n",
    "h= float(input())\n",
    "print(\"the operations that are available in the calculator  are  : additon ,subtraction,multiplication ,divide \\n press 1 for additon \\n press 2 for subtraction \\n press 3 for multiplication \\n press 4 for division \")\n",
    "\n",
    "o=int(input(\"enter the choice : \"))\n",
    "while True : \n",
    "    if o==1 : \n",
    "        print(\"the addition is \", g+h )\n",
    "    elif o==2:\n",
    "        print(\"the subtraction is \",g-h)\n",
    "    elif o==3 : \n",
    "        print(\"the multiplication is \", g*h)\n",
    "    elif o==4 : \n",
    "        print(\"the division is \", g/h)\n",
    "    \n",
    "    nxtcal= input(\"do u wanna do  the another claculator \\n choose yes or no \")\n",
    "    if nxtcal==\"no\" : \n",
    "        break \n",
    "    else : \n",
    "        print(\"invalid input \")\n",
    "    "
   ]
  },
  {
   "cell_type": "code",
   "execution_count": null,
   "id": "16139636",
   "metadata": {},
   "outputs": [],
   "source": []
  }
 ],
 "metadata": {
  "kernelspec": {
   "display_name": "Python 3 (ipykernel)",
   "language": "python",
   "name": "python3"
  },
  "language_info": {
   "codemirror_mode": {
    "name": "ipython",
    "version": 3
   },
   "file_extension": ".py",
   "mimetype": "text/x-python",
   "name": "python",
   "nbconvert_exporter": "python",
   "pygments_lexer": "ipython3",
   "version": "3.9.13"
  }
 },
 "nbformat": 4,
 "nbformat_minor": 5
}
